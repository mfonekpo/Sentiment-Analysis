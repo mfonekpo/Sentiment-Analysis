{
 "cells": [
  {
   "cell_type": "code",
   "execution_count": 26,
   "metadata": {},
   "outputs": [],
   "source": [
    "# libraries\n",
    "import pandas as pd\n",
    "import numpy as np\n",
    "import regex as re\n",
    "import requests\n",
    "import spacy\n",
    "import time\n",
    "import redis\n",
    "import missingno as msno\n",
    "from selenium import webdriver\n",
    "from selenium.common.exceptions import NoSuchElementException\n",
    "from selenium.common.exceptions import StaleElementReferenceException\n",
    "from selenium.common.exceptions import ElementNotInteractableException\n",
    "from selenium.webdriver.firefox.service import Service\n",
    "from selenium.webdriver.common.by import By\n",
    "from selenium.webdriver.common.keys import Keys"
   ]
  },
  {
   "cell_type": "code",
   "execution_count": null,
   "metadata": {},
   "outputs": [],
   "source": [
    "firefox_driver_path = Service(\"/home/royale/Documents/py/jupyter/webscraping projects/Selenium projects/webdrivers/geckodriver\")\n",
    "r = redis.Redis(host=\"localhost\", port=6379)\n",
    "# firefox_driver_path = (\"/home/royale/Documents/py/jupyter/webscraping projects/Selenium projects/webdrivers/geckodriver\")"
   ]
  },
  {
   "cell_type": "markdown",
   "metadata": {},
   "source": [
    "## Scraping the review data from the given url"
   ]
  },
  {
   "cell_type": "code",
   "execution_count": null,
   "metadata": {},
   "outputs": [],
   "source": [
    "firefox_driver_path = Service(\"/home/royale/Documents/py/jupyter/webscraping projects/Selenium projects/webdrivers/geckodriver\")\n",
    "browser = webdriver.Firefox(service= firefox_driver_path)\n",
    "url = \"https://www.imdb.com/title/tt9419884/reviews?ref_=tt_urv\"\n",
    "browser.get(url)\n",
    "\n",
    "\n",
    "content_holder = browser.find_elements(By.CLASS_NAME, \"lister-list\")\n",
    "load_more_button = browser.find_element(By.ID, \"load-more-trigger\")\n",
    "\n",
    "# movie_dict = {}\n",
    "# review_title = []\n",
    "# review_content = []\n",
    "pages = 1\n",
    "\n",
    "\n",
    "for pages in range(150):\n",
    "    print(f\"page {pages + 1}\")\n",
    "    load_more_button.send_keys(Keys.PAGE_DOWN)\n",
    "    time.sleep(5)\n",
    "    load_more_button.click()\n",
    "    pages += 1\n",
    "\n",
    "else:\n",
    "    print(\"storing scraped data...\")\n",
    "    for elements in content_holder:\n",
    "        # The review tags\n",
    "        review_title_tag = elements.find_elements(By.CLASS_NAME, \"title\")\n",
    "        review_content_tag = elements.find_elements(By.CLASS_NAME, \"text\")\n",
    "\n",
    "        # The review list\n",
    "        review_title = [titles.text for titles in review_title_tag]\n",
    "        review_content = [contents.text for contents in review_content_tag]\n",
    "\n",
    "\n",
    "\n",
    "    movie_dict = {\n",
    "        \"Review_title\" : pd.Series(review_title),\n",
    "        \"Review_content\": pd.Series(review_content)\n",
    "    }\n",
    "    review_data = pd.DataFrame(movie_dict)\n",
    "    browser.close()\n"
   ]
  },
  {
   "cell_type": "markdown",
   "metadata": {},
   "source": [
    "## Saving the data in a csv format"
   ]
  },
  {
   "cell_type": "code",
   "execution_count": null,
   "metadata": {},
   "outputs": [],
   "source": [
    "review_data.to_csv(\"Doctor_strange_in_the _multiverse_of_madness_movie_review.csv\")"
   ]
  },
  {
   "cell_type": "code",
   "execution_count": null,
   "metadata": {},
   "outputs": [],
   "source": []
  },
  {
   "cell_type": "markdown",
   "metadata": {},
   "source": [
    "## Load the data for text preprocessing for sentiment analysis"
   ]
  },
  {
   "cell_type": "code",
   "execution_count": 22,
   "metadata": {},
   "outputs": [],
   "source": [
    "nlp = spacy.load(\"en_core_web_lg\")"
   ]
  },
  {
   "cell_type": "code",
   "execution_count": 31,
   "metadata": {},
   "outputs": [],
   "source": [
    "filename = \"Doctor_strange_in_the _multiverse_of_madness_movie_review.csv\""
   ]
  },
  {
   "cell_type": "code",
   "execution_count": 32,
   "metadata": {},
   "outputs": [],
   "source": [
    "movie_review = pd.read_csv(filename)"
   ]
  },
  {
   "cell_type": "code",
   "execution_count": 33,
   "metadata": {},
   "outputs": [
    {
     "data": {
      "text/html": [
       "<div>\n",
       "<style scoped>\n",
       "    .dataframe tbody tr th:only-of-type {\n",
       "        vertical-align: middle;\n",
       "    }\n",
       "\n",
       "    .dataframe tbody tr th {\n",
       "        vertical-align: top;\n",
       "    }\n",
       "\n",
       "    .dataframe thead th {\n",
       "        text-align: right;\n",
       "    }\n",
       "</style>\n",
       "<table border=\"1\" class=\"dataframe\">\n",
       "  <thead>\n",
       "    <tr style=\"text-align: right;\">\n",
       "      <th></th>\n",
       "      <th>Review_title</th>\n",
       "      <th>Review_content</th>\n",
       "    </tr>\n",
       "  </thead>\n",
       "  <tbody>\n",
       "    <tr>\n",
       "      <th>0</th>\n",
       "      <td>This was Wandavision 2, not Doctor Strange 2</td>\n",
       "      <td>NaN</td>\n",
       "    </tr>\n",
       "    <tr>\n",
       "      <th>1</th>\n",
       "      <td>Well, it was shiny and colourful</td>\n",
       "      <td>NaN</td>\n",
       "    </tr>\n",
       "    <tr>\n",
       "      <th>2</th>\n",
       "      <td>Not enough multiverse and maybe too much madness</td>\n",
       "      <td>Sam Raimi definitely put a splash of horror in...</td>\n",
       "    </tr>\n",
       "    <tr>\n",
       "      <th>3</th>\n",
       "      <td>Scarlet Witch: The Movie, ft: Sorcerer Supremes</td>\n",
       "      <td>NaN</td>\n",
       "    </tr>\n",
       "    <tr>\n",
       "      <th>4</th>\n",
       "      <td>Terrible plot and script, boring and pointless</td>\n",
       "      <td>I always had some issues with MCU films but no...</td>\n",
       "    </tr>\n",
       "    <tr>\n",
       "      <th>...</th>\n",
       "      <td>...</td>\n",
       "      <td>...</td>\n",
       "    </tr>\n",
       "    <tr>\n",
       "      <th>3757</th>\n",
       "      <td>NaN</td>\n",
       "      <td>NaN</td>\n",
       "    </tr>\n",
       "    <tr>\n",
       "      <th>3758</th>\n",
       "      <td>NaN</td>\n",
       "      <td>NaN</td>\n",
       "    </tr>\n",
       "    <tr>\n",
       "      <th>3759</th>\n",
       "      <td>NaN</td>\n",
       "      <td>NaN</td>\n",
       "    </tr>\n",
       "    <tr>\n",
       "      <th>3760</th>\n",
       "      <td>NaN</td>\n",
       "      <td>NaN</td>\n",
       "    </tr>\n",
       "    <tr>\n",
       "      <th>3761</th>\n",
       "      <td>NaN</td>\n",
       "      <td>I, Infact most of the audience beleives that t...</td>\n",
       "    </tr>\n",
       "  </tbody>\n",
       "</table>\n",
       "<p>3762 rows × 2 columns</p>\n",
       "</div>"
      ],
      "text/plain": [
       "                                          Review_title  \\\n",
       "0         This was Wandavision 2, not Doctor Strange 2   \n",
       "1                     Well, it was shiny and colourful   \n",
       "2     Not enough multiverse and maybe too much madness   \n",
       "3      Scarlet Witch: The Movie, ft: Sorcerer Supremes   \n",
       "4       Terrible plot and script, boring and pointless   \n",
       "...                                                ...   \n",
       "3757                                               NaN   \n",
       "3758                                               NaN   \n",
       "3759                                               NaN   \n",
       "3760                                               NaN   \n",
       "3761                                               NaN   \n",
       "\n",
       "                                         Review_content  \n",
       "0                                                   NaN  \n",
       "1                                                   NaN  \n",
       "2     Sam Raimi definitely put a splash of horror in...  \n",
       "3                                                   NaN  \n",
       "4     I always had some issues with MCU films but no...  \n",
       "...                                                 ...  \n",
       "3757                                                NaN  \n",
       "3758                                                NaN  \n",
       "3759                                                NaN  \n",
       "3760                                                NaN  \n",
       "3761  I, Infact most of the audience beleives that t...  \n",
       "\n",
       "[3762 rows x 2 columns]"
      ]
     },
     "execution_count": 33,
     "metadata": {},
     "output_type": "execute_result"
    }
   ],
   "source": [
    "movie_review"
   ]
  },
  {
   "cell_type": "code",
   "execution_count": 35,
   "metadata": {},
   "outputs": [
    {
     "data": {
      "image/png": "[encoded data removed]",
      "text/plain": [
       "<Figure size 1800x720 with 2 Axes>"
      ]
     },
     "metadata": {
      "needs_background": "light"
     },
     "output_type": "display_data"
    }
   ],
   "source": [
    "msno.matrix(movie_review);"
   ]
  },
  {
   "cell_type": "code",
   "execution_count": null,
   "metadata": {},
   "outputs": [],
   "source": []
  }
 ],
 "metadata": {
  "interpreter": {
   "hash": "dd82ece9d2190eeb85b6120284f899c99bd01ea5bc28bf9b3148377c3218887b"
  },
  "kernelspec": {
   "display_name": "Python 3",
   "language": "python",
   "name": "python3"
  },
  "language_info": {
   "codemirror_mode": {
    "name": "ipython",
    "version": 3
   },
   "file_extension": ".py",
   "mimetype": "text/x-python",
   "name": "python",
   "nbconvert_exporter": "python",
   "pygments_lexer": "ipython3",
   "version": "3.8.5"
  }
 },
 "nbformat": 4,
 "nbformat_minor": 4
}
